{
  "nbformat": 4,
  "nbformat_minor": 0,
  "metadata": {
    "colab": {
      "provenance": [],
      "authorship_tag": "ABX9TyP9UiuZZDN7Mo6HwLJEtoXL",
      "include_colab_link": true
    },
    "kernelspec": {
      "name": "python3",
      "display_name": "Python 3"
    },
    "language_info": {
      "name": "python"
    },
    "gpuClass": "standard"
  },
  "cells": [
    {
      "cell_type": "markdown",
      "metadata": {
        "id": "view-in-github",
        "colab_type": "text"
      },
      "source": [
        "<a href=\"https://colab.research.google.com/github/MatheusB2002/Analise-Incendios-Florestais/blob/main/An%C3%A1liseInc%C3%AAndio.ipynb\" target=\"_parent\"><img src=\"https://colab.research.google.com/assets/colab-badge.svg\" alt=\"Open In Colab\"/></a>"
      ]
    },
    {
      "cell_type": "markdown",
      "source": [
        "# <center><font color = 'gold' c> Este Notebook é Dedicado à análise dos Incendios Florestais no Brasil.</font>"
      ],
      "metadata": {
        "id": "UDwNwXvEVW5e"
      }
    },
    {
      "cell_type": "markdown",
      "source": [
        "#<Font color= Gold> Introduzindo a Visualização do Dataset </font>\n",
        "##<font size = 2>Começarei com a importação das **bibliotecas** necessárias e também do **Dataset** que será utilizado aqui.Ao final da pesquisa, será divulgada as versões das bibliotecas que aqui forem utilizadas.</font>\n",
        "\n"
      ],
      "metadata": {
        "id": "2NsctP3YblTs"
      }
    },
    {
      "cell_type": "code",
      "execution_count": null,
      "metadata": {
        "id": "04tEmCquVSYU"
      },
      "outputs": [],
      "source": [
        "import pandas as pd\n",
        "import numpy as np\n",
        "import seaborn as sns\n",
        "import matplotlib.pyplot as plt\n",
        "from google.colab import files"
      ]
    },
    {
      "cell_type": "markdown",
      "source": [
        "<font size= 2>Para a importação do Dataset pedido decidi colocá-lo em um repositório do GitHub para que haja segurança de que o código de importaçao do Csv irá funcionar perfeitamente para qualquer pessoa que rodar ele.</font>\n",
        "\n",
        "<font size = 2, color = Gold>Importando o Dataset de Incêndios Florestais:</font>\n"
      ],
      "metadata": {
        "id": "Hxwm_GmsfQIF"
      }
    },
    {
      "cell_type": "code",
      "source": [
        "incendios = pd.read_csv('https://raw.githubusercontent.com/MatheusB2002/Analise-Incendios-Florestais/main/amazon.csv',encoding = 'latin1')\n",
        "\n",
        "incendios.sample(10)"
      ],
      "metadata": {
        "id": "JJHb4Nc7glLF",
        "colab": {
          "base_uri": "https://localhost:8080/",
          "height": 363
        },
        "outputId": "55d09c3e-0599-4bb9-a9a2-b957c5eac581"
      },
      "execution_count": null,
      "outputs": [
        {
          "output_type": "execute_result",
          "data": {
            "text/plain": [
              "      year             state     month   number        date\n",
              "1502  2005  Distrito Federal     Abril    0.000  2005-01-01\n",
              "3976  2009        Pernambuco    Agosto   10.000  2009-01-01\n",
              "3284  2014              Pará  Setembro    6.787  2014-01-01\n",
              "329   2007           Alagoas      Maio    0.000  2007-01-01\n",
              "6446  2009         Tocantins  Dezembro   46.000  2009-01-01\n",
              "4949  2006               Rio  Setembro  444.000  2006-01-01\n",
              "4786  2003               Rio   Janeiro   58.000  2003-01-01\n",
              "5268  2007           Roraima   Janeiro  194.000  2007-01-01\n",
              "4478  2013               Rio  Setembro  117.000  2013-01-01\n",
              "907   2007          Amazonas   Outubro  215.000  2007-01-01"
            ],
            "text/html": [
              "\n",
              "  <div id=\"df-e60926f2-ea8d-45bc-96f9-6fde4f175b54\">\n",
              "    <div class=\"colab-df-container\">\n",
              "      <div>\n",
              "<style scoped>\n",
              "    .dataframe tbody tr th:only-of-type {\n",
              "        vertical-align: middle;\n",
              "    }\n",
              "\n",
              "    .dataframe tbody tr th {\n",
              "        vertical-align: top;\n",
              "    }\n",
              "\n",
              "    .dataframe thead th {\n",
              "        text-align: right;\n",
              "    }\n",
              "</style>\n",
              "<table border=\"1\" class=\"dataframe\">\n",
              "  <thead>\n",
              "    <tr style=\"text-align: right;\">\n",
              "      <th></th>\n",
              "      <th>year</th>\n",
              "      <th>state</th>\n",
              "      <th>month</th>\n",
              "      <th>number</th>\n",
              "      <th>date</th>\n",
              "    </tr>\n",
              "  </thead>\n",
              "  <tbody>\n",
              "    <tr>\n",
              "      <th>1502</th>\n",
              "      <td>2005</td>\n",
              "      <td>Distrito Federal</td>\n",
              "      <td>Abril</td>\n",
              "      <td>0.000</td>\n",
              "      <td>2005-01-01</td>\n",
              "    </tr>\n",
              "    <tr>\n",
              "      <th>3976</th>\n",
              "      <td>2009</td>\n",
              "      <td>Pernambuco</td>\n",
              "      <td>Agosto</td>\n",
              "      <td>10.000</td>\n",
              "      <td>2009-01-01</td>\n",
              "    </tr>\n",
              "    <tr>\n",
              "      <th>3284</th>\n",
              "      <td>2014</td>\n",
              "      <td>Pará</td>\n",
              "      <td>Setembro</td>\n",
              "      <td>6.787</td>\n",
              "      <td>2014-01-01</td>\n",
              "    </tr>\n",
              "    <tr>\n",
              "      <th>329</th>\n",
              "      <td>2007</td>\n",
              "      <td>Alagoas</td>\n",
              "      <td>Maio</td>\n",
              "      <td>0.000</td>\n",
              "      <td>2007-01-01</td>\n",
              "    </tr>\n",
              "    <tr>\n",
              "      <th>6446</th>\n",
              "      <td>2009</td>\n",
              "      <td>Tocantins</td>\n",
              "      <td>Dezembro</td>\n",
              "      <td>46.000</td>\n",
              "      <td>2009-01-01</td>\n",
              "    </tr>\n",
              "    <tr>\n",
              "      <th>4949</th>\n",
              "      <td>2006</td>\n",
              "      <td>Rio</td>\n",
              "      <td>Setembro</td>\n",
              "      <td>444.000</td>\n",
              "      <td>2006-01-01</td>\n",
              "    </tr>\n",
              "    <tr>\n",
              "      <th>4786</th>\n",
              "      <td>2003</td>\n",
              "      <td>Rio</td>\n",
              "      <td>Janeiro</td>\n",
              "      <td>58.000</td>\n",
              "      <td>2003-01-01</td>\n",
              "    </tr>\n",
              "    <tr>\n",
              "      <th>5268</th>\n",
              "      <td>2007</td>\n",
              "      <td>Roraima</td>\n",
              "      <td>Janeiro</td>\n",
              "      <td>194.000</td>\n",
              "      <td>2007-01-01</td>\n",
              "    </tr>\n",
              "    <tr>\n",
              "      <th>4478</th>\n",
              "      <td>2013</td>\n",
              "      <td>Rio</td>\n",
              "      <td>Setembro</td>\n",
              "      <td>117.000</td>\n",
              "      <td>2013-01-01</td>\n",
              "    </tr>\n",
              "    <tr>\n",
              "      <th>907</th>\n",
              "      <td>2007</td>\n",
              "      <td>Amazonas</td>\n",
              "      <td>Outubro</td>\n",
              "      <td>215.000</td>\n",
              "      <td>2007-01-01</td>\n",
              "    </tr>\n",
              "  </tbody>\n",
              "</table>\n",
              "</div>\n",
              "      <button class=\"colab-df-convert\" onclick=\"convertToInteractive('df-e60926f2-ea8d-45bc-96f9-6fde4f175b54')\"\n",
              "              title=\"Convert this dataframe to an interactive table.\"\n",
              "              style=\"display:none;\">\n",
              "        \n",
              "  <svg xmlns=\"http://www.w3.org/2000/svg\" height=\"24px\"viewBox=\"0 0 24 24\"\n",
              "       width=\"24px\">\n",
              "    <path d=\"M0 0h24v24H0V0z\" fill=\"none\"/>\n",
              "    <path d=\"M18.56 5.44l.94 2.06.94-2.06 2.06-.94-2.06-.94-.94-2.06-.94 2.06-2.06.94zm-11 1L8.5 8.5l.94-2.06 2.06-.94-2.06-.94L8.5 2.5l-.94 2.06-2.06.94zm10 10l.94 2.06.94-2.06 2.06-.94-2.06-.94-.94-2.06-.94 2.06-2.06.94z\"/><path d=\"M17.41 7.96l-1.37-1.37c-.4-.4-.92-.59-1.43-.59-.52 0-1.04.2-1.43.59L10.3 9.45l-7.72 7.72c-.78.78-.78 2.05 0 2.83L4 21.41c.39.39.9.59 1.41.59.51 0 1.02-.2 1.41-.59l7.78-7.78 2.81-2.81c.8-.78.8-2.07 0-2.86zM5.41 20L4 18.59l7.72-7.72 1.47 1.35L5.41 20z\"/>\n",
              "  </svg>\n",
              "      </button>\n",
              "      \n",
              "  <style>\n",
              "    .colab-df-container {\n",
              "      display:flex;\n",
              "      flex-wrap:wrap;\n",
              "      gap: 12px;\n",
              "    }\n",
              "\n",
              "    .colab-df-convert {\n",
              "      background-color: #E8F0FE;\n",
              "      border: none;\n",
              "      border-radius: 50%;\n",
              "      cursor: pointer;\n",
              "      display: none;\n",
              "      fill: #1967D2;\n",
              "      height: 32px;\n",
              "      padding: 0 0 0 0;\n",
              "      width: 32px;\n",
              "    }\n",
              "\n",
              "    .colab-df-convert:hover {\n",
              "      background-color: #E2EBFA;\n",
              "      box-shadow: 0px 1px 2px rgba(60, 64, 67, 0.3), 0px 1px 3px 1px rgba(60, 64, 67, 0.15);\n",
              "      fill: #174EA6;\n",
              "    }\n",
              "\n",
              "    [theme=dark] .colab-df-convert {\n",
              "      background-color: #3B4455;\n",
              "      fill: #D2E3FC;\n",
              "    }\n",
              "\n",
              "    [theme=dark] .colab-df-convert:hover {\n",
              "      background-color: #434B5C;\n",
              "      box-shadow: 0px 1px 3px 1px rgba(0, 0, 0, 0.15);\n",
              "      filter: drop-shadow(0px 1px 2px rgba(0, 0, 0, 0.3));\n",
              "      fill: #FFFFFF;\n",
              "    }\n",
              "  </style>\n",
              "\n",
              "      <script>\n",
              "        const buttonEl =\n",
              "          document.querySelector('#df-e60926f2-ea8d-45bc-96f9-6fde4f175b54 button.colab-df-convert');\n",
              "        buttonEl.style.display =\n",
              "          google.colab.kernel.accessAllowed ? 'block' : 'none';\n",
              "\n",
              "        async function convertToInteractive(key) {\n",
              "          const element = document.querySelector('#df-e60926f2-ea8d-45bc-96f9-6fde4f175b54');\n",
              "          const dataTable =\n",
              "            await google.colab.kernel.invokeFunction('convertToInteractive',\n",
              "                                                     [key], {});\n",
              "          if (!dataTable) return;\n",
              "\n",
              "          const docLinkHtml = 'Like what you see? Visit the ' +\n",
              "            '<a target=\"_blank\" href=https://colab.research.google.com/notebooks/data_table.ipynb>data table notebook</a>'\n",
              "            + ' to learn more about interactive tables.';\n",
              "          element.innerHTML = '';\n",
              "          dataTable['output_type'] = 'display_data';\n",
              "          await google.colab.output.renderOutput(dataTable, element);\n",
              "          const docLink = document.createElement('div');\n",
              "          docLink.innerHTML = docLinkHtml;\n",
              "          element.appendChild(docLink);\n",
              "        }\n",
              "      </script>\n",
              "    </div>\n",
              "  </div>\n",
              "  "
            ]
          },
          "metadata": {},
          "execution_count": 233
        }
      ]
    },
    {
      "cell_type": "markdown",
      "source": [
        "\n",
        "<font size = 2> Na primeira visualização aleatória passada pela função \"*Sample*\" identifiquei a necessidade de fazer uma tradução para melhor visualização já que os valores das colunas \"state\" e \"month\" estão em **PT-BR**.\n",
        "\n",
        "<font size = 2>\n",
        "Utilizei o método  \"*rename*\" do *pandas* para fazer essa mudança e descrevi o nome anterior e a substituição utilizando o dicionário do *Python* como parâmetro do método."
      ],
      "metadata": {
        "id": "pi7AA_VKxpDz"
      }
    },
    {
      "cell_type": "code",
      "source": [
        "incendios = incendios.rename(columns={\n",
        "    \"year\": \"Ano\",\n",
        "    \"state\": \"Estado\",\n",
        "    \"month\": \"Mês\",\n",
        "    \"number\": \"Número\",\n",
        "    \"date\" : \"Data\"\n",
        "}\n",
        ")"
      ],
      "metadata": {
        "id": "DiM1le22iBmR"
      },
      "execution_count": null,
      "outputs": []
    },
    {
      "cell_type": "markdown",
      "source": [
        "<font size = 2>Logo após eu queria saber se os valores tinham algum erro para que pudesse reparar. Numerarei para que fique mais fácil de identificar erros em contagens ou algo do tipo."
      ],
      "metadata": {
        "id": "2N0PioH2_J03"
      }
    },
    {
      "cell_type": "code",
      "source": [
        "Anos = incendios['Ano'].unique()\n",
        "for i,Ano in enumerate(Anos, start=1):\n",
        "  print(f'{i} - {Ano}')"
      ],
      "metadata": {
        "colab": {
          "base_uri": "https://localhost:8080/"
        },
        "id": "j4v_PmXV8ZcY",
        "outputId": "27acd44b-3290-4c7c-e130-06bb4c95169e"
      },
      "execution_count": null,
      "outputs": [
        {
          "output_type": "stream",
          "name": "stdout",
          "text": [
            "1 - 1998\n",
            "2 - 1999\n",
            "3 - 2000\n",
            "4 - 2001\n",
            "5 - 2002\n",
            "6 - 2003\n",
            "7 - 2004\n",
            "8 - 2005\n",
            "9 - 2006\n",
            "10 - 2007\n",
            "11 - 2008\n",
            "12 - 2009\n",
            "13 - 2010\n",
            "14 - 2011\n",
            "15 - 2012\n",
            "16 - 2013\n",
            "17 - 2014\n",
            "18 - 2015\n",
            "19 - 2016\n",
            "20 - 2017\n"
          ]
        }
      ]
    },
    {
      "cell_type": "code",
      "source": [
        "Estados = (incendios['Estado'].unique())\n",
        "\n",
        "for i,Estado in enumerate(Estados, start=1):\n",
        "  print(f'{i} - \"{Estado}\"')"
      ],
      "metadata": {
        "colab": {
          "base_uri": "https://localhost:8080/"
        },
        "id": "O7FF0lCq8Myz",
        "outputId": "a5fbc700-5e55-475e-fa59-e0f8364aeb80"
      },
      "execution_count": null,
      "outputs": [
        {
          "output_type": "stream",
          "name": "stdout",
          "text": [
            "1 - \"Acre\"\n",
            "2 - \"Alagoas\"\n",
            "3 - \"Amapa\"\n",
            "4 - \"Amazonas\"\n",
            "5 - \"Bahia\"\n",
            "6 - \"Ceara\"\n",
            "7 - \"Distrito Federal\"\n",
            "8 - \"Espirito Santo\"\n",
            "9 - \"Goias\"\n",
            "10 - \"Maranhao\"\n",
            "11 - \"Mato Grosso\"\n",
            "12 - \"Minas Gerais\"\n",
            "13 - \"Pará\"\n",
            "14 - \"Paraiba\"\n",
            "15 - \"Pernambuco\"\n",
            "16 - \"Piau\"\n",
            "17 - \"Rio\"\n",
            "18 - \"Rondonia\"\n",
            "19 - \"Roraima\"\n",
            "20 - \"Santa Catarina\"\n",
            "21 - \"Sao Paulo\"\n",
            "22 - \"Sergipe\"\n",
            "23 - \"Tocantins\"\n"
          ]
        }
      ]
    },
    {
      "cell_type": "markdown",
      "source": [
        "\n",
        "<font size = 2> Para realizar essa visualização pegamos os valores distintos existentes em cada coluna aplicada. Iterando a variável com os valores distintos e printando numericamente.\n",
        "\n",
        "<font size = 2>O que podemos observar foi que a Coluna de Anos tem todos os seus valores colocados de forma correta. \n",
        "A coluna de Estados há erros de grafia tanto faltando caractere, tanto erro de acentuação além de não termos dados coletados de 4 Estados.                   \n",
        "\n",
        "<font size = 2>As aspas são colocadas para identificar possíveis espaços antes ou depois das strings dos estados.\n",
        "\n",
        "\n",
        "---\n",
        "#<font color = Gold> Iniciando limpeza e adaptações:"
      ],
      "metadata": {
        "id": "G1AB2faz_bdK"
      }
    },
    {
      "cell_type": "code",
      "source": [
        "incendios['Estado'] = (incendios['Estado'].replace(['Piau', 'Rio','Sao Paulo','Rondonia','Paraiba','Maranhao','Goias','Espirito Santo','Ceara','Amapa'],\n",
        "                                                   ['Piauí', 'Rio de Janeiro','São Paulo','Rondônia','Paraíba','Maranhão','Goiás','Espírito Santo','Ceará','Amapá']))"
      ],
      "metadata": {
        "id": "n8xXrRMbDXDG"
      },
      "execution_count": null,
      "outputs": []
    },
    {
      "cell_type": "markdown",
      "source": [
        "<font size = 2> Utilizarei o método \"*info*\" do *pandas* para que ele me dê uma descrição do documento em análise e o método \"describe\" para que ajude a entender a distribuição dos dados numéricos. "
      ],
      "metadata": {
        "id": "Mt7pxgtL2r6x"
      }
    },
    {
      "cell_type": "code",
      "source": [
        "incendios.info()"
      ],
      "metadata": {
        "colab": {
          "base_uri": "https://localhost:8080/"
        },
        "id": "YI4YU4q4qfhv",
        "outputId": "3e845400-11e0-490c-bc7d-18d9d99e4c9c"
      },
      "execution_count": null,
      "outputs": [
        {
          "output_type": "stream",
          "name": "stdout",
          "text": [
            "<class 'pandas.core.frame.DataFrame'>\n",
            "RangeIndex: 6454 entries, 0 to 6453\n",
            "Data columns (total 5 columns):\n",
            " #   Column  Non-Null Count  Dtype  \n",
            "---  ------  --------------  -----  \n",
            " 0   Ano     6454 non-null   int64  \n",
            " 1   Estado  6454 non-null   object \n",
            " 2   Mês     6454 non-null   object \n",
            " 3   Número  6454 non-null   float64\n",
            " 4   Data    6454 non-null   object \n",
            "dtypes: float64(1), int64(1), object(3)\n",
            "memory usage: 252.2+ KB\n"
          ]
        }
      ]
    },
    {
      "cell_type": "code",
      "source": [
        "incendios.describe()"
      ],
      "metadata": {
        "colab": {
          "base_uri": "https://localhost:8080/",
          "height": 301
        },
        "id": "36iOeMZ193o0",
        "outputId": "6c1dee46-bc70-46be-e9e2-0b4fcbb55ef9"
      },
      "execution_count": null,
      "outputs": [
        {
          "output_type": "execute_result",
          "data": {
            "text/plain": [
              "               Ano       Número\n",
              "count  6454.000000  6454.000000\n",
              "mean   2007.461729   108.293163\n",
              "std       5.746654   190.812242\n",
              "min    1998.000000     0.000000\n",
              "25%    2002.000000     3.000000\n",
              "50%    2007.000000    24.000000\n",
              "75%    2012.000000   113.000000\n",
              "max    2017.000000   998.000000"
            ],
            "text/html": [
              "\n",
              "  <div id=\"df-58998466-320f-433b-a2a8-b3a044dfc251\">\n",
              "    <div class=\"colab-df-container\">\n",
              "      <div>\n",
              "<style scoped>\n",
              "    .dataframe tbody tr th:only-of-type {\n",
              "        vertical-align: middle;\n",
              "    }\n",
              "\n",
              "    .dataframe tbody tr th {\n",
              "        vertical-align: top;\n",
              "    }\n",
              "\n",
              "    .dataframe thead th {\n",
              "        text-align: right;\n",
              "    }\n",
              "</style>\n",
              "<table border=\"1\" class=\"dataframe\">\n",
              "  <thead>\n",
              "    <tr style=\"text-align: right;\">\n",
              "      <th></th>\n",
              "      <th>Ano</th>\n",
              "      <th>Número</th>\n",
              "    </tr>\n",
              "  </thead>\n",
              "  <tbody>\n",
              "    <tr>\n",
              "      <th>count</th>\n",
              "      <td>6454.000000</td>\n",
              "      <td>6454.000000</td>\n",
              "    </tr>\n",
              "    <tr>\n",
              "      <th>mean</th>\n",
              "      <td>2007.461729</td>\n",
              "      <td>108.293163</td>\n",
              "    </tr>\n",
              "    <tr>\n",
              "      <th>std</th>\n",
              "      <td>5.746654</td>\n",
              "      <td>190.812242</td>\n",
              "    </tr>\n",
              "    <tr>\n",
              "      <th>min</th>\n",
              "      <td>1998.000000</td>\n",
              "      <td>0.000000</td>\n",
              "    </tr>\n",
              "    <tr>\n",
              "      <th>25%</th>\n",
              "      <td>2002.000000</td>\n",
              "      <td>3.000000</td>\n",
              "    </tr>\n",
              "    <tr>\n",
              "      <th>50%</th>\n",
              "      <td>2007.000000</td>\n",
              "      <td>24.000000</td>\n",
              "    </tr>\n",
              "    <tr>\n",
              "      <th>75%</th>\n",
              "      <td>2012.000000</td>\n",
              "      <td>113.000000</td>\n",
              "    </tr>\n",
              "    <tr>\n",
              "      <th>max</th>\n",
              "      <td>2017.000000</td>\n",
              "      <td>998.000000</td>\n",
              "    </tr>\n",
              "  </tbody>\n",
              "</table>\n",
              "</div>\n",
              "      <button class=\"colab-df-convert\" onclick=\"convertToInteractive('df-58998466-320f-433b-a2a8-b3a044dfc251')\"\n",
              "              title=\"Convert this dataframe to an interactive table.\"\n",
              "              style=\"display:none;\">\n",
              "        \n",
              "  <svg xmlns=\"http://www.w3.org/2000/svg\" height=\"24px\"viewBox=\"0 0 24 24\"\n",
              "       width=\"24px\">\n",
              "    <path d=\"M0 0h24v24H0V0z\" fill=\"none\"/>\n",
              "    <path d=\"M18.56 5.44l.94 2.06.94-2.06 2.06-.94-2.06-.94-.94-2.06-.94 2.06-2.06.94zm-11 1L8.5 8.5l.94-2.06 2.06-.94-2.06-.94L8.5 2.5l-.94 2.06-2.06.94zm10 10l.94 2.06.94-2.06 2.06-.94-2.06-.94-.94-2.06-.94 2.06-2.06.94z\"/><path d=\"M17.41 7.96l-1.37-1.37c-.4-.4-.92-.59-1.43-.59-.52 0-1.04.2-1.43.59L10.3 9.45l-7.72 7.72c-.78.78-.78 2.05 0 2.83L4 21.41c.39.39.9.59 1.41.59.51 0 1.02-.2 1.41-.59l7.78-7.78 2.81-2.81c.8-.78.8-2.07 0-2.86zM5.41 20L4 18.59l7.72-7.72 1.47 1.35L5.41 20z\"/>\n",
              "  </svg>\n",
              "      </button>\n",
              "      \n",
              "  <style>\n",
              "    .colab-df-container {\n",
              "      display:flex;\n",
              "      flex-wrap:wrap;\n",
              "      gap: 12px;\n",
              "    }\n",
              "\n",
              "    .colab-df-convert {\n",
              "      background-color: #E8F0FE;\n",
              "      border: none;\n",
              "      border-radius: 50%;\n",
              "      cursor: pointer;\n",
              "      display: none;\n",
              "      fill: #1967D2;\n",
              "      height: 32px;\n",
              "      padding: 0 0 0 0;\n",
              "      width: 32px;\n",
              "    }\n",
              "\n",
              "    .colab-df-convert:hover {\n",
              "      background-color: #E2EBFA;\n",
              "      box-shadow: 0px 1px 2px rgba(60, 64, 67, 0.3), 0px 1px 3px 1px rgba(60, 64, 67, 0.15);\n",
              "      fill: #174EA6;\n",
              "    }\n",
              "\n",
              "    [theme=dark] .colab-df-convert {\n",
              "      background-color: #3B4455;\n",
              "      fill: #D2E3FC;\n",
              "    }\n",
              "\n",
              "    [theme=dark] .colab-df-convert:hover {\n",
              "      background-color: #434B5C;\n",
              "      box-shadow: 0px 1px 3px 1px rgba(0, 0, 0, 0.15);\n",
              "      filter: drop-shadow(0px 1px 2px rgba(0, 0, 0, 0.3));\n",
              "      fill: #FFFFFF;\n",
              "    }\n",
              "  </style>\n",
              "\n",
              "      <script>\n",
              "        const buttonEl =\n",
              "          document.querySelector('#df-58998466-320f-433b-a2a8-b3a044dfc251 button.colab-df-convert');\n",
              "        buttonEl.style.display =\n",
              "          google.colab.kernel.accessAllowed ? 'block' : 'none';\n",
              "\n",
              "        async function convertToInteractive(key) {\n",
              "          const element = document.querySelector('#df-58998466-320f-433b-a2a8-b3a044dfc251');\n",
              "          const dataTable =\n",
              "            await google.colab.kernel.invokeFunction('convertToInteractive',\n",
              "                                                     [key], {});\n",
              "          if (!dataTable) return;\n",
              "\n",
              "          const docLinkHtml = 'Like what you see? Visit the ' +\n",
              "            '<a target=\"_blank\" href=https://colab.research.google.com/notebooks/data_table.ipynb>data table notebook</a>'\n",
              "            + ' to learn more about interactive tables.';\n",
              "          element.innerHTML = '';\n",
              "          dataTable['output_type'] = 'display_data';\n",
              "          await google.colab.output.renderOutput(dataTable, element);\n",
              "          const docLink = document.createElement('div');\n",
              "          docLink.innerHTML = docLinkHtml;\n",
              "          element.appendChild(docLink);\n",
              "        }\n",
              "      </script>\n",
              "    </div>\n",
              "  </div>\n",
              "  "
            ]
          },
          "metadata": {},
          "execution_count": 239
        }
      ]
    },
    {
      "cell_type": "markdown",
      "source": [
        "#<font color = Gold> Informações observadas na descrição do Csv:</font>\n",
        "\n",
        "1. Todas as colunas estão no formato correto, não será necessário fazer alterações;</font>\n",
        "\n",
        "2. Existem 6454 linhas (0 ao 6453) e 5 colunas com todas as suas linhas preenchidas (nenhuma linha vazia ou valor inválido);</font>\n",
        "\n",
        "3. Como são dados de um país com uma grande diversidade em todos os sentidos, é possivel enxergar que há outiliers só pela distribuição;</font>\n",
        "\n",
        "4. O desvio padrão do Número de incêncendios demonstra uma má distribuição dos dados, mas acho que isso é explicado pela questão da diversidade. O Brasil é grande o suficiente para que exista interações naturais diferentes dependendo da região, tendo áreas com diferentes biomas;\n",
        "</font>\n",
        "\n",
        "5. A distribuição dos anos está bem feita, significando que não há anos em que nao houve registros.\n",
        "\n",
        "\n",
        "\n",
        "---\n",
        "#  <Font size = 3> Para melhor visualizar essa distribuição dos Números de Incêndios Florestais, utilizarei o \"*boxplot*\" do *Seaborn* e junto usarei o *Matplotlib* para ajustes:\n",
        "\n"
      ],
      "metadata": {
        "id": "ZadE26m34t2T"
      }
    },
    {
      "cell_type": "code",
      "source": [
        "\n",
        "plt.figure(figsize =(13, 7))\n",
        "sns.boxplot( x = 'Ano', y = 'Número',data = incendios, linewidth = 3)\n",
        "\n",
        "plt.title(\"Boxplot do Número de Incêndios Florestais no Brasil\", loc=\"center\", fontsize=20, color= 'Purple')\n",
        "plt.ylabel(\"Número de Incêndios\",fontsize=13)\n",
        "plt.xlabel(\"Anos\",fontsize=13)\n",
        "\n",
        "plt.show();"
      ],
      "metadata": {
        "colab": {
          "base_uri": "https://localhost:8080/",
          "height": 467
        },
        "id": "a15c5L6UB3Is",
        "outputId": "93e9fd30-7e12-46ef-e76c-a770967c3ce1"
      },
      "execution_count": null,
      "outputs": [
        {
          "output_type": "display_data",
          "data": {
            "text/plain": [
              "<Figure size 936x504 with 1 Axes>"
            ],
            "image/png": "[encoded data removed]"
          },
          "metadata": {}
        }
      ]
    },
    {
      "cell_type": "markdown",
      "source": [
        "#<Font color = \"Gold\"> O que pode ser concluido com a visualização do boxplot?</font>\n",
        "\n",
        "Em todos os anos há outliers, afirmando assim que há uma diversidade enorme no País. \n",
        "\n",
        "A mediana se encontra muito baixa, significando que metade do pais teve valores baixos de Incêndios e a outra metade possui lugares que alcançam 998 queimadas registradas num mês.\n",
        "\n",
        "É possível concluir que é mais plausível permanecer com todos os dados ao disperdissá-los ou normalizá-los criando assim uma oportunidade de melhores visualizações onde poderemos identificar exatamente os lugares que estão tendo esses valores absurdos de incêndios identificados.\n",
        "\n",
        "\n",
        "\n"
      ],
      "metadata": {
        "id": "dXOdGen34Nqj"
      }
    },
    {
      "cell_type": "markdown",
      "source": [
        "# <font color = Gold>Criação de colunas para auxílio nas análises:</font> 💡\n",
        "\n",
        "<font color = gold>Representação e descrição de colunas</font>\n",
        "\n",
        "<font size = 2>Deixarei essa reprentação para se surgir ideias de acréscimo de colunas adicionar aqui: </font>\n",
        "\n",
        "\n",
        "| Coluna       | <font color = Gold>Descrição </font>                    |\n",
        "|  ---         |                       ---                               | \n",
        "| Estado       | Lugar onde foi computado o incêndio Florestal           |\n",
        "| Mês          | Mês em que o incêndio Florestal foi computado           |\n",
        "| Número       | Quantidade de incêndios Florestais computados           |\n",
        "| Data         | Data Exata em que foi computado o incêndio Florestal    |\n",
        "| Região       | Separaçao dos estados por região                        |\n",
        "| Estado_Sigla | Abreviação do nome do Estado                            |\n",
        "| Bioma_1      | Colocaremos o primeiro Bioma do Estado                  |\n",
        "| Bioma_2      | Colocaremos o segundo Bioma do Estado (caso ele Possua) |\n",
        "| Bioma_3      | Colocaremos o segundo Bioma do Estado (caso ele Possua) |\n",
        "\n",
        "\n",
        "\n",
        "---\n",
        "\n",
        "<font size = 2>Começaremos excluindo a coluna de \"*Data*\" já que existem outras duas colunas que conseguem substituir ela facilmente, as colunas \"*Mês*\" e a coluna \"*Ano*\" que são mais viáveis a utilização delas do que as de \"*Data*\" já que poderemos fazer filtros com os Anos que se passaram.</font>"
      ],
      "metadata": {
        "id": "u9hpkyJhLbCv"
      }
    },
    {
      "cell_type": "code",
      "source": [
        "incendios.drop('Data', axis= 1, inplace = True)\n",
        "\n",
        "incendios.sample(5)"
      ],
      "metadata": {
        "colab": {
          "base_uri": "https://localhost:8080/",
          "height": 206
        },
        "id": "vrBL4ze5e_vP",
        "outputId": "487cbbe3-80ae-4936-8d94-d01105150407"
      },
      "execution_count": null,
      "outputs": [
        {
          "output_type": "execute_result",
          "data": {
            "text/plain": [
              "       Ano            Estado        Mês  Número\n",
              "3422  2013           Paraíba      Abril     6.0\n",
              "4638  2014    Rio de Janeiro       Maio     2.0\n",
              "6082  2004           Sergipe      Junho     0.0\n",
              "1464  2007  Distrito Federal  Fevereiro     0.0\n",
              "5935  2016         São Paulo    Outubro   177.0"
            ],
            "text/html": [
              "\n",
              "  <div id=\"df-5fe22f16-0d9b-400c-8e3c-6937ae7e878d\">\n",
              "    <div class=\"colab-df-container\">\n",
              "      <div>\n",
              "<style scoped>\n",
              "    .dataframe tbody tr th:only-of-type {\n",
              "        vertical-align: middle;\n",
              "    }\n",
              "\n",
              "    .dataframe tbody tr th {\n",
              "        vertical-align: top;\n",
              "    }\n",
              "\n",
              "    .dataframe thead th {\n",
              "        text-align: right;\n",
              "    }\n",
              "</style>\n",
              "<table border=\"1\" class=\"dataframe\">\n",
              "  <thead>\n",
              "    <tr style=\"text-align: right;\">\n",
              "      <th></th>\n",
              "      <th>Ano</th>\n",
              "      <th>Estado</th>\n",
              "      <th>Mês</th>\n",
              "      <th>Número</th>\n",
              "    </tr>\n",
              "  </thead>\n",
              "  <tbody>\n",
              "    <tr>\n",
              "      <th>3422</th>\n",
              "      <td>2013</td>\n",
              "      <td>Paraíba</td>\n",
              "      <td>Abril</td>\n",
              "      <td>6.0</td>\n",
              "    </tr>\n",
              "    <tr>\n",
              "      <th>4638</th>\n",
              "      <td>2014</td>\n",
              "      <td>Rio de Janeiro</td>\n",
              "      <td>Maio</td>\n",
              "      <td>2.0</td>\n",
              "    </tr>\n",
              "    <tr>\n",
              "      <th>6082</th>\n",
              "      <td>2004</td>\n",
              "      <td>Sergipe</td>\n",
              "      <td>Junho</td>\n",
              "      <td>0.0</td>\n",
              "    </tr>\n",
              "    <tr>\n",
              "      <th>1464</th>\n",
              "      <td>2007</td>\n",
              "      <td>Distrito Federal</td>\n",
              "      <td>Fevereiro</td>\n",
              "      <td>0.0</td>\n",
              "    </tr>\n",
              "    <tr>\n",
              "      <th>5935</th>\n",
              "      <td>2016</td>\n",
              "      <td>São Paulo</td>\n",
              "      <td>Outubro</td>\n",
              "      <td>177.0</td>\n",
              "    </tr>\n",
              "  </tbody>\n",
              "</table>\n",
              "</div>\n",
              "      <button class=\"colab-df-convert\" onclick=\"convertToInteractive('df-5fe22f16-0d9b-400c-8e3c-6937ae7e878d')\"\n",
              "              title=\"Convert this dataframe to an interactive table.\"\n",
              "              style=\"display:none;\">\n",
              "        \n",
              "  <svg xmlns=\"http://www.w3.org/2000/svg\" height=\"24px\"viewBox=\"0 0 24 24\"\n",
              "       width=\"24px\">\n",
              "    <path d=\"M0 0h24v24H0V0z\" fill=\"none\"/>\n",
              "    <path d=\"M18.56 5.44l.94 2.06.94-2.06 2.06-.94-2.06-.94-.94-2.06-.94 2.06-2.06.94zm-11 1L8.5 8.5l.94-2.06 2.06-.94-2.06-.94L8.5 2.5l-.94 2.06-2.06.94zm10 10l.94 2.06.94-2.06 2.06-.94-2.06-.94-.94-2.06-.94 2.06-2.06.94z\"/><path d=\"M17.41 7.96l-1.37-1.37c-.4-.4-.92-.59-1.43-.59-.52 0-1.04.2-1.43.59L10.3 9.45l-7.72 7.72c-.78.78-.78 2.05 0 2.83L4 21.41c.39.39.9.59 1.41.59.51 0 1.02-.2 1.41-.59l7.78-7.78 2.81-2.81c.8-.78.8-2.07 0-2.86zM5.41 20L4 18.59l7.72-7.72 1.47 1.35L5.41 20z\"/>\n",
              "  </svg>\n",
              "      </button>\n",
              "      \n",
              "  <style>\n",
              "    .colab-df-container {\n",
              "      display:flex;\n",
              "      flex-wrap:wrap;\n",
              "      gap: 12px;\n",
              "    }\n",
              "\n",
              "    .colab-df-convert {\n",
              "      background-color: #E8F0FE;\n",
              "      border: none;\n",
              "      border-radius: 50%;\n",
              "      cursor: pointer;\n",
              "      display: none;\n",
              "      fill: #1967D2;\n",
              "      height: 32px;\n",
              "      padding: 0 0 0 0;\n",
              "      width: 32px;\n",
              "    }\n",
              "\n",
              "    .colab-df-convert:hover {\n",
              "      background-color: #E2EBFA;\n",
              "      box-shadow: 0px 1px 2px rgba(60, 64, 67, 0.3), 0px 1px 3px 1px rgba(60, 64, 67, 0.15);\n",
              "      fill: #174EA6;\n",
              "    }\n",
              "\n",
              "    [theme=dark] .colab-df-convert {\n",
              "      background-color: #3B4455;\n",
              "      fill: #D2E3FC;\n",
              "    }\n",
              "\n",
              "    [theme=dark] .colab-df-convert:hover {\n",
              "      background-color: #434B5C;\n",
              "      box-shadow: 0px 1px 3px 1px rgba(0, 0, 0, 0.15);\n",
              "      filter: drop-shadow(0px 1px 2px rgba(0, 0, 0, 0.3));\n",
              "      fill: #FFFFFF;\n",
              "    }\n",
              "  </style>\n",
              "\n",
              "      <script>\n",
              "        const buttonEl =\n",
              "          document.querySelector('#df-5fe22f16-0d9b-400c-8e3c-6937ae7e878d button.colab-df-convert');\n",
              "        buttonEl.style.display =\n",
              "          google.colab.kernel.accessAllowed ? 'block' : 'none';\n",
              "\n",
              "        async function convertToInteractive(key) {\n",
              "          const element = document.querySelector('#df-5fe22f16-0d9b-400c-8e3c-6937ae7e878d');\n",
              "          const dataTable =\n",
              "            await google.colab.kernel.invokeFunction('convertToInteractive',\n",
              "                                                     [key], {});\n",
              "          if (!dataTable) return;\n",
              "\n",
              "          const docLinkHtml = 'Like what you see? Visit the ' +\n",
              "            '<a target=\"_blank\" href=https://colab.research.google.com/notebooks/data_table.ipynb>data table notebook</a>'\n",
              "            + ' to learn more about interactive tables.';\n",
              "          element.innerHTML = '';\n",
              "          dataTable['output_type'] = 'display_data';\n",
              "          await google.colab.output.renderOutput(dataTable, element);\n",
              "          const docLink = document.createElement('div');\n",
              "          docLink.innerHTML = docLinkHtml;\n",
              "          element.appendChild(docLink);\n",
              "        }\n",
              "      </script>\n",
              "    </div>\n",
              "  </div>\n",
              "  "
            ]
          },
          "metadata": {},
          "execution_count": 241
        }
      ]
    },
    {
      "cell_type": "markdown",
      "source": [
        "<font size = 2> Tudo nos conformes, coluna que representava a data de contagem agora foi dropada com o método \"*Drop*\" do Pandas. </font>\n",
        "\n",
        "\n",
        "\n",
        "---\n",
        "\n",
        "\n",
        "\n",
        "<font size = 2>\n",
        "Agora vamos criar a coluna \" Região \" para futuramente usar no dashboard, é uma coluna muito interessante para criar vizualizações.\n",
        "\n",
        "#<font color = Gold> Criando Coluna \"Região\":"
      ],
      "metadata": {
        "id": "8cBDacXNd9TW"
      }
    },
    {
      "cell_type": "code",
      "source": [
        "dicionarioRegioes = {\n",
        "'Nordeste' : ['Alagoas', 'Bahia', 'Ceará', 'Maranhão', 'Paraíba', 'Pernambuco', 'Piauí', 'Sergipe'],\n",
        "'Norte' : ['Acre', 'Amapá', 'Amazonas', 'Pará', 'Rondônia', 'Roraima', 'Tocantins'],\n",
        "'Sudeste' : ['Espírito Santo', 'Minas Gerais', 'Rio de Janeiro', 'São Paulo'],\n",
        "'Sul' : ['Santa Catarina'],\n",
        "'Centro-Oeste' : ['Distrito Federal', 'Goiás', 'Mato Grosso'],\n",
        "\n",
        "}\n",
        "\n",
        "incendios['Região'] = incendios['Estado'].apply( \n",
        "    lambda x :[chave for id, chave in enumerate(dicionarioRegioes) if x in dicionarioRegioes[chave]][0]\n",
        "    )"
      ],
      "metadata": {
        "id": "EXCSsdWeMCZE"
      },
      "execution_count": null,
      "outputs": []
    },
    {
      "cell_type": "markdown",
      "source": [
        "<font size = 2> Coluna adicionada com sucesso! Para realizar essa tarefa, construi um dicionário onde as chaves são os nomes das regiões e os valores são os nomes de cada estado.\n",
        "\n",
        "<font size = 2>Após a conclusão do dicionário, criei a coluna \"*Região*\" colocando dentro dela os nomes das chaves em que os estádos batiam com os valores dentro dessas chaves. Para essa iteração, foi utilizado uma função *lambda* no \"*apply*\" e *List Comprehension*. Com a lista formada, pegamos a string atravez de seu índice.\n",
        "\n",
        "<font size = 2>Para confirmarmos que ocorreu tudo da forma que queremos utilizarei a função \"*Sample*\" para vizualizarmos linhas aleatórias do arquivo:"
      ],
      "metadata": {
        "id": "xuj_Xv2AcJR2"
      }
    },
    {
      "cell_type": "code",
      "source": [
        "incendios.sample(10)"
      ],
      "metadata": {
        "colab": {
          "base_uri": "https://localhost:8080/",
          "height": 363
        },
        "id": "-T6D04-SZmN4",
        "outputId": "97b2ef6f-3c6a-45f8-be14-64ce4626991e"
      },
      "execution_count": null,
      "outputs": [
        {
          "output_type": "execute_result",
          "data": {
            "text/plain": [
              "       Ano          Estado        Mês   Número        Região\n",
              "4146  2000           Piauí       Maio   25.000      Nordeste\n",
              "1221  2003           Ceará  Fevereiro    9.000      Nordeste\n",
              "3802  2014         Paraíba   Novembro   68.000      Nordeste\n",
              "356   2014         Alagoas      Junho    2.000      Nordeste\n",
              "5724  2004  Santa Catarina   Dezembro   68.000           Sul\n",
              "3343  2013            Pará   Dezembro    5.514         Norte\n",
              "3124  2014            Pará    Janeiro  251.000         Norte\n",
              "1897  2001  Espírito Santo   Dezembro    1.000       Sudeste\n",
              "1338  2000           Ceará     Agosto   79.000      Nordeste\n",
              "2751  1999     Mato Grosso      Julho    1.297  Centro-Oeste"
            ],
            "text/html": [
              "\n",
              "  <div id=\"df-aca03b7e-330c-45bb-ab3a-8160ee5a5ffc\">\n",
              "    <div class=\"colab-df-container\">\n",
              "      <div>\n",
              "<style scoped>\n",
              "    .dataframe tbody tr th:only-of-type {\n",
              "        vertical-align: middle;\n",
              "    }\n",
              "\n",
              "    .dataframe tbody tr th {\n",
              "        vertical-align: top;\n",
              "    }\n",
              "\n",
              "    .dataframe thead th {\n",
              "        text-align: right;\n",
              "    }\n",
              "</style>\n",
              "<table border=\"1\" class=\"dataframe\">\n",
              "  <thead>\n",
              "    <tr style=\"text-align: right;\">\n",
              "      <th></th>\n",
              "      <th>Ano</th>\n",
              "      <th>Estado</th>\n",
              "      <th>Mês</th>\n",
              "      <th>Número</th>\n",
              "      <th>Região</th>\n",
              "    </tr>\n",
              "  </thead>\n",
              "  <tbody>\n",
              "    <tr>\n",
              "      <th>4146</th>\n",
              "      <td>2000</td>\n",
              "      <td>Piauí</td>\n",
              "      <td>Maio</td>\n",
              "      <td>25.000</td>\n",
              "      <td>Nordeste</td>\n",
              "    </tr>\n",
              "    <tr>\n",
              "      <th>1221</th>\n",
              "      <td>2003</td>\n",
              "      <td>Ceará</td>\n",
              "      <td>Fevereiro</td>\n",
              "      <td>9.000</td>\n",
              "      <td>Nordeste</td>\n",
              "    </tr>\n",
              "    <tr>\n",
              "      <th>3802</th>\n",
              "      <td>2014</td>\n",
              "      <td>Paraíba</td>\n",
              "      <td>Novembro</td>\n",
              "      <td>68.000</td>\n",
              "      <td>Nordeste</td>\n",
              "    </tr>\n",
              "    <tr>\n",
              "      <th>356</th>\n",
              "      <td>2014</td>\n",
              "      <td>Alagoas</td>\n",
              "      <td>Junho</td>\n",
              "      <td>2.000</td>\n",
              "      <td>Nordeste</td>\n",
              "    </tr>\n",
              "    <tr>\n",
              "      <th>5724</th>\n",
              "      <td>2004</td>\n",
              "      <td>Santa Catarina</td>\n",
              "      <td>Dezembro</td>\n",
              "      <td>68.000</td>\n",
              "      <td>Sul</td>\n",
              "    </tr>\n",
              "    <tr>\n",
              "      <th>3343</th>\n",
              "      <td>2013</td>\n",
              "      <td>Pará</td>\n",
              "      <td>Dezembro</td>\n",
              "      <td>5.514</td>\n",
              "      <td>Norte</td>\n",
              "    </tr>\n",
              "    <tr>\n",
              "      <th>3124</th>\n",
              "      <td>2014</td>\n",
              "      <td>Pará</td>\n",
              "      <td>Janeiro</td>\n",
              "      <td>251.000</td>\n",
              "      <td>Norte</td>\n",
              "    </tr>\n",
              "    <tr>\n",
              "      <th>1897</th>\n",
              "      <td>2001</td>\n",
              "      <td>Espírito Santo</td>\n",
              "      <td>Dezembro</td>\n",
              "      <td>1.000</td>\n",
              "      <td>Sudeste</td>\n",
              "    </tr>\n",
              "    <tr>\n",
              "      <th>1338</th>\n",
              "      <td>2000</td>\n",
              "      <td>Ceará</td>\n",
              "      <td>Agosto</td>\n",
              "      <td>79.000</td>\n",
              "      <td>Nordeste</td>\n",
              "    </tr>\n",
              "    <tr>\n",
              "      <th>2751</th>\n",
              "      <td>1999</td>\n",
              "      <td>Mato Grosso</td>\n",
              "      <td>Julho</td>\n",
              "      <td>1.297</td>\n",
              "      <td>Centro-Oeste</td>\n",
              "    </tr>\n",
              "  </tbody>\n",
              "</table>\n",
              "</div>\n",
              "      <button class=\"colab-df-convert\" onclick=\"convertToInteractive('df-aca03b7e-330c-45bb-ab3a-8160ee5a5ffc')\"\n",
              "              title=\"Convert this dataframe to an interactive table.\"\n",
              "              style=\"display:none;\">\n",
              "        \n",
              "  <svg xmlns=\"http://www.w3.org/2000/svg\" height=\"24px\"viewBox=\"0 0 24 24\"\n",
              "       width=\"24px\">\n",
              "    <path d=\"M0 0h24v24H0V0z\" fill=\"none\"/>\n",
              "    <path d=\"M18.56 5.44l.94 2.06.94-2.06 2.06-.94-2.06-.94-.94-2.06-.94 2.06-2.06.94zm-11 1L8.5 8.5l.94-2.06 2.06-.94-2.06-.94L8.5 2.5l-.94 2.06-2.06.94zm10 10l.94 2.06.94-2.06 2.06-.94-2.06-.94-.94-2.06-.94 2.06-2.06.94z\"/><path d=\"M17.41 7.96l-1.37-1.37c-.4-.4-.92-.59-1.43-.59-.52 0-1.04.2-1.43.59L10.3 9.45l-7.72 7.72c-.78.78-.78 2.05 0 2.83L4 21.41c.39.39.9.59 1.41.59.51 0 1.02-.2 1.41-.59l7.78-7.78 2.81-2.81c.8-.78.8-2.07 0-2.86zM5.41 20L4 18.59l7.72-7.72 1.47 1.35L5.41 20z\"/>\n",
              "  </svg>\n",
              "      </button>\n",
              "      \n",
              "  <style>\n",
              "    .colab-df-container {\n",
              "      display:flex;\n",
              "      flex-wrap:wrap;\n",
              "      gap: 12px;\n",
              "    }\n",
              "\n",
              "    .colab-df-convert {\n",
              "      background-color: #E8F0FE;\n",
              "      border: none;\n",
              "      border-radius: 50%;\n",
              "      cursor: pointer;\n",
              "      display: none;\n",
              "      fill: #1967D2;\n",
              "      height: 32px;\n",
              "      padding: 0 0 0 0;\n",
              "      width: 32px;\n",
              "    }\n",
              "\n",
              "    .colab-df-convert:hover {\n",
              "      background-color: #E2EBFA;\n",
              "      box-shadow: 0px 1px 2px rgba(60, 64, 67, 0.3), 0px 1px 3px 1px rgba(60, 64, 67, 0.15);\n",
              "      fill: #174EA6;\n",
              "    }\n",
              "\n",
              "    [theme=dark] .colab-df-convert {\n",
              "      background-color: #3B4455;\n",
              "      fill: #D2E3FC;\n",
              "    }\n",
              "\n",
              "    [theme=dark] .colab-df-convert:hover {\n",
              "      background-color: #434B5C;\n",
              "      box-shadow: 0px 1px 3px 1px rgba(0, 0, 0, 0.15);\n",
              "      filter: drop-shadow(0px 1px 2px rgba(0, 0, 0, 0.3));\n",
              "      fill: #FFFFFF;\n",
              "    }\n",
              "  </style>\n",
              "\n",
              "      <script>\n",
              "        const buttonEl =\n",
              "          document.querySelector('#df-aca03b7e-330c-45bb-ab3a-8160ee5a5ffc button.colab-df-convert');\n",
              "        buttonEl.style.display =\n",
              "          google.colab.kernel.accessAllowed ? 'block' : 'none';\n",
              "\n",
              "        async function convertToInteractive(key) {\n",
              "          const element = document.querySelector('#df-aca03b7e-330c-45bb-ab3a-8160ee5a5ffc');\n",
              "          const dataTable =\n",
              "            await google.colab.kernel.invokeFunction('convertToInteractive',\n",
              "                                                     [key], {});\n",
              "          if (!dataTable) return;\n",
              "\n",
              "          const docLinkHtml = 'Like what you see? Visit the ' +\n",
              "            '<a target=\"_blank\" href=https://colab.research.google.com/notebooks/data_table.ipynb>data table notebook</a>'\n",
              "            + ' to learn more about interactive tables.';\n",
              "          element.innerHTML = '';\n",
              "          dataTable['output_type'] = 'display_data';\n",
              "          await google.colab.output.renderOutput(dataTable, element);\n",
              "          const docLink = document.createElement('div');\n",
              "          docLink.innerHTML = docLinkHtml;\n",
              "          element.appendChild(docLink);\n",
              "        }\n",
              "      </script>\n",
              "    </div>\n",
              "  </div>\n",
              "  "
            ]
          },
          "metadata": {},
          "execution_count": 243
        }
      ]
    },
    {
      "cell_type": "markdown",
      "source": [
        "<font size = 2> Pode-se observar que os valores foram adicionados da forma correta, agora podemos filtrar os estados por região. Isso é ótimo para criar gráficos de mapas, treemaps além de várias outras possibilidades nos filtros. \n",
        "Com a coluna adicionada podemos prosseguir com as análises.\n",
        "\n",
        "\n",
        "---\n",
        "\n",
        "\n",
        "<font size = 2>\n",
        "De acordo com a minha experiência com o Power BI, a plataforma tem uma dificuldade de reconhecer os estados pelos nomes, ainda mais quando existem estados que começam com o mesmo nome, por exemplo:\n",
        "\n",
        "<font size= 2, color = Gold> Mato Grosso </font ><font size = 3>≃ <font size= 2, color = Gold> Mato Grosso do Sul</font >\n",
        "\n",
        "<font size= 2, color = Gold> Rio Grande do Sul </font ><font size = 3>≃ <font size= 2, color = Gold> Rio Grande do Norte</font >\n",
        "\n",
        "<font size = 2> Para resolver isso, seria legal criar uma coluna com a sigla dos Estados, pois assim, a plataforma reconhecerá mais facilmente.\n",
        "\n",
        "\n",
        "\n",
        "#<font color = Gold> Criando Coluna \"Estado_Sigla\":"
      ],
      "metadata": {
        "id": "LjFkQeP-cljF"
      }
    },
    {
      "cell_type": "code",
      "source": [
        "dicionarioSiglas = {\n",
        "    'Acre': 'AC',\n",
        "    'Alagoas': 'AL',\n",
        "    'Amapá': 'AP',\n",
        "    'Amazonas': 'AM',\n",
        "    'Bahia': 'BA',\n",
        "    'Ceará': 'CE',\n",
        "    'Distrito Federal': 'DF',\n",
        "    'Espírito Santo': 'ES',\n",
        "    'Goiás': 'GO',\n",
        "    'Maranhão': 'MA',\n",
        "    'Mato Grosso': 'MT',\n",
        "    'Minas Gerais': 'MG',\n",
        "    'Pará': 'PA',\n",
        "    'Paraíba': 'PB',\n",
        "    'Pernambuco': 'PE',\n",
        "    'Piauí': 'PI',\n",
        "    'Rio de Janeiro': 'RJ',\n",
        "    'Rondônia': 'RO',\n",
        "    'Roraima': 'RR',\n",
        "    'Santa Catarina': 'SC',\n",
        "    'São Paulo': 'SP',\n",
        "    'Sergipe': 'SE',\n",
        "    'Tocantins': 'TO'\n",
        "  }\n",
        "\n",
        "incendios['Estado_Sigla'] = incendios['Estado'].apply(\n",
        "    lambda Estado: [dicionarioSiglas[chave] for id, chave in enumerate(dicionarioSiglas) if Estado == chave][0])\n",
        "\n",
        "incendios.sample(10)\n"
      ],
      "metadata": {
        "colab": {
          "base_uri": "https://localhost:8080/",
          "height": 363
        },
        "id": "qaxGfhKjA2wB",
        "outputId": "152f9c97-1313-4076-bcb8-46bd1f7b98a0"
      },
      "execution_count": null,
      "outputs": [
        {
          "output_type": "execute_result",
          "data": {
            "text/plain": [
              "       Ano          Estado        Mês  Número        Região Estado_Sigla\n",
              "1061  2002           Bahia      Junho   118.0      Nordeste           BA\n",
              "4982  1999  Rio de Janeiro   Novembro   103.0       Sudeste           RJ\n",
              "2810  1998     Mato Grosso    Outubro   576.0  Centro-Oeste           MT\n",
              "3576  2007         Paraíba   Dezembro   133.0      Nordeste           PB\n",
              "1013  2014           Bahia      Março   148.0      Nordeste           BA\n",
              "5961  2002       São Paulo   Dezembro    57.0       Sudeste           SP\n",
              "274   2012         Alagoas  Fevereiro    41.0      Nordeste           AL\n",
              "5501  2001  Santa Catarina    Janeiro    11.0           Sul           SC\n",
              "2614  2001     Mato Grosso   Dezembro    37.0  Centro-Oeste           MT\n",
              "270   2008         Alagoas  Fevereiro    74.0      Nordeste           AL"
            ],
            "text/html": [
              "\n",
              "  <div id=\"df-e25dc70a-8dba-40e0-b2a2-35339864bf6b\">\n",
              "    <div class=\"colab-df-container\">\n",
              "      <div>\n",
              "<style scoped>\n",
              "    .dataframe tbody tr th:only-of-type {\n",
              "        vertical-align: middle;\n",
              "    }\n",
              "\n",
              "    .dataframe tbody tr th {\n",
              "        vertical-align: top;\n",
              "    }\n",
              "\n",
              "    .dataframe thead th {\n",
              "        text-align: right;\n",
              "    }\n",
              "</style>\n",
              "<table border=\"1\" class=\"dataframe\">\n",
              "  <thead>\n",
              "    <tr style=\"text-align: right;\">\n",
              "      <th></th>\n",
              "      <th>Ano</th>\n",
              "      <th>Estado</th>\n",
              "      <th>Mês</th>\n",
              "      <th>Número</th>\n",
              "      <th>Região</th>\n",
              "      <th>Estado_Sigla</th>\n",
              "    </tr>\n",
              "  </thead>\n",
              "  <tbody>\n",
              "    <tr>\n",
              "      <th>1061</th>\n",
              "      <td>2002</td>\n",
              "      <td>Bahia</td>\n",
              "      <td>Junho</td>\n",
              "      <td>118.0</td>\n",
              "      <td>Nordeste</td>\n",
              "      <td>BA</td>\n",
              "    </tr>\n",
              "    <tr>\n",
              "      <th>4982</th>\n",
              "      <td>1999</td>\n",
              "      <td>Rio de Janeiro</td>\n",
              "      <td>Novembro</td>\n",
              "      <td>103.0</td>\n",
              "      <td>Sudeste</td>\n",
              "      <td>RJ</td>\n",
              "    </tr>\n",
              "    <tr>\n",
              "      <th>2810</th>\n",
              "      <td>1998</td>\n",
              "      <td>Mato Grosso</td>\n",
              "      <td>Outubro</td>\n",
              "      <td>576.0</td>\n",
              "      <td>Centro-Oeste</td>\n",
              "      <td>MT</td>\n",
              "    </tr>\n",
              "    <tr>\n",
              "      <th>3576</th>\n",
              "      <td>2007</td>\n",
              "      <td>Paraíba</td>\n",
              "      <td>Dezembro</td>\n",
              "      <td>133.0</td>\n",
              "      <td>Nordeste</td>\n",
              "      <td>PB</td>\n",
              "    </tr>\n",
              "    <tr>\n",
              "      <th>1013</th>\n",
              "      <td>2014</td>\n",
              "      <td>Bahia</td>\n",
              "      <td>Março</td>\n",
              "      <td>148.0</td>\n",
              "      <td>Nordeste</td>\n",
              "      <td>BA</td>\n",
              "    </tr>\n",
              "    <tr>\n",
              "      <th>5961</th>\n",
              "      <td>2002</td>\n",
              "      <td>São Paulo</td>\n",
              "      <td>Dezembro</td>\n",
              "      <td>57.0</td>\n",
              "      <td>Sudeste</td>\n",
              "      <td>SP</td>\n",
              "    </tr>\n",
              "    <tr>\n",
              "      <th>274</th>\n",
              "      <td>2012</td>\n",
              "      <td>Alagoas</td>\n",
              "      <td>Fevereiro</td>\n",
              "      <td>41.0</td>\n",
              "      <td>Nordeste</td>\n",
              "      <td>AL</td>\n",
              "    </tr>\n",
              "    <tr>\n",
              "      <th>5501</th>\n",
              "      <td>2001</td>\n",
              "      <td>Santa Catarina</td>\n",
              "      <td>Janeiro</td>\n",
              "      <td>11.0</td>\n",
              "      <td>Sul</td>\n",
              "      <td>SC</td>\n",
              "    </tr>\n",
              "    <tr>\n",
              "      <th>2614</th>\n",
              "      <td>2001</td>\n",
              "      <td>Mato Grosso</td>\n",
              "      <td>Dezembro</td>\n",
              "      <td>37.0</td>\n",
              "      <td>Centro-Oeste</td>\n",
              "      <td>MT</td>\n",
              "    </tr>\n",
              "    <tr>\n",
              "      <th>270</th>\n",
              "      <td>2008</td>\n",
              "      <td>Alagoas</td>\n",
              "      <td>Fevereiro</td>\n",
              "      <td>74.0</td>\n",
              "      <td>Nordeste</td>\n",
              "      <td>AL</td>\n",
              "    </tr>\n",
              "  </tbody>\n",
              "</table>\n",
              "</div>\n",
              "      <button class=\"colab-df-convert\" onclick=\"convertToInteractive('df-e25dc70a-8dba-40e0-b2a2-35339864bf6b')\"\n",
              "              title=\"Convert this dataframe to an interactive table.\"\n",
              "              style=\"display:none;\">\n",
              "        \n",
              "  <svg xmlns=\"http://www.w3.org/2000/svg\" height=\"24px\"viewBox=\"0 0 24 24\"\n",
              "       width=\"24px\">\n",
              "    <path d=\"M0 0h24v24H0V0z\" fill=\"none\"/>\n",
              "    <path d=\"M18.56 5.44l.94 2.06.94-2.06 2.06-.94-2.06-.94-.94-2.06-.94 2.06-2.06.94zm-11 1L8.5 8.5l.94-2.06 2.06-.94-2.06-.94L8.5 2.5l-.94 2.06-2.06.94zm10 10l.94 2.06.94-2.06 2.06-.94-2.06-.94-.94-2.06-.94 2.06-2.06.94z\"/><path d=\"M17.41 7.96l-1.37-1.37c-.4-.4-.92-.59-1.43-.59-.52 0-1.04.2-1.43.59L10.3 9.45l-7.72 7.72c-.78.78-.78 2.05 0 2.83L4 21.41c.39.39.9.59 1.41.59.51 0 1.02-.2 1.41-.59l7.78-7.78 2.81-2.81c.8-.78.8-2.07 0-2.86zM5.41 20L4 18.59l7.72-7.72 1.47 1.35L5.41 20z\"/>\n",
              "  </svg>\n",
              "      </button>\n",
              "      \n",
              "  <style>\n",
              "    .colab-df-container {\n",
              "      display:flex;\n",
              "      flex-wrap:wrap;\n",
              "      gap: 12px;\n",
              "    }\n",
              "\n",
              "    .colab-df-convert {\n",
              "      background-color: #E8F0FE;\n",
              "      border: none;\n",
              "      border-radius: 50%;\n",
              "      cursor: pointer;\n",
              "      display: none;\n",
              "      fill: #1967D2;\n",
              "      height: 32px;\n",
              "      padding: 0 0 0 0;\n",
              "      width: 32px;\n",
              "    }\n",
              "\n",
              "    .colab-df-convert:hover {\n",
              "      background-color: #E2EBFA;\n",
              "      box-shadow: 0px 1px 2px rgba(60, 64, 67, 0.3), 0px 1px 3px 1px rgba(60, 64, 67, 0.15);\n",
              "      fill: #174EA6;\n",
              "    }\n",
              "\n",
              "    [theme=dark] .colab-df-convert {\n",
              "      background-color: #3B4455;\n",
              "      fill: #D2E3FC;\n",
              "    }\n",
              "\n",
              "    [theme=dark] .colab-df-convert:hover {\n",
              "      background-color: #434B5C;\n",
              "      box-shadow: 0px 1px 3px 1px rgba(0, 0, 0, 0.15);\n",
              "      filter: drop-shadow(0px 1px 2px rgba(0, 0, 0, 0.3));\n",
              "      fill: #FFFFFF;\n",
              "    }\n",
              "  </style>\n",
              "\n",
              "      <script>\n",
              "        const buttonEl =\n",
              "          document.querySelector('#df-e25dc70a-8dba-40e0-b2a2-35339864bf6b button.colab-df-convert');\n",
              "        buttonEl.style.display =\n",
              "          google.colab.kernel.accessAllowed ? 'block' : 'none';\n",
              "\n",
              "        async function convertToInteractive(key) {\n",
              "          const element = document.querySelector('#df-e25dc70a-8dba-40e0-b2a2-35339864bf6b');\n",
              "          const dataTable =\n",
              "            await google.colab.kernel.invokeFunction('convertToInteractive',\n",
              "                                                     [key], {});\n",
              "          if (!dataTable) return;\n",
              "\n",
              "          const docLinkHtml = 'Like what you see? Visit the ' +\n",
              "            '<a target=\"_blank\" href=https://colab.research.google.com/notebooks/data_table.ipynb>data table notebook</a>'\n",
              "            + ' to learn more about interactive tables.';\n",
              "          element.innerHTML = '';\n",
              "          dataTable['output_type'] = 'display_data';\n",
              "          await google.colab.output.renderOutput(dataTable, element);\n",
              "          const docLink = document.createElement('div');\n",
              "          docLink.innerHTML = docLinkHtml;\n",
              "          element.appendChild(docLink);\n",
              "        }\n",
              "      </script>\n",
              "    </div>\n",
              "  </div>\n",
              "  "
            ]
          },
          "metadata": {},
          "execution_count": 244
        }
      ]
    },
    {
      "cell_type": "markdown",
      "source": [
        "<font size = 2> Para obtermos essa coluna foi usada a mesma estratégia de criação das demais.\n",
        "Primeiramente foi criado um dicionário sendo a chave desse dicionário o nome do Estado, o valor da chave é a sigla desse Estado. Usando o \"*apply*\" inserindo um *List Comprehension* dentro de uma função *lambda* conferindo se o Estado tem o mesmo nome da chave, se sim, resgata o valor da chave e adiciona à lista. Ao final de tudo a string é resgatada atravez de seu índice\n",
        "\n",
        "\n",
        "---\n",
        "<font size = 2> Após criarmos todas as colunas desejadas, vamos conferir como está o estado de todo o dataset com as mudanças. Faremos isso usando o método \"*Info*\".\n"
      ],
      "metadata": {
        "id": "5DZWhfO9IOHD"
      }
    },
    {
      "cell_type": "code",
      "source": [
        "\n",
        "# Trocando a ordem das colunas para melhor organização:\n",
        "incendios = incendios[['Ano',\n",
        "                       'Estado',\n",
        "                       'Mês',\n",
        "                       'Número',\n",
        "                       'Região']\n",
        "                      \n",
        "      ]\n",
        "\n",
        "incendios.info()"
      ],
      "metadata": {
        "colab": {
          "base_uri": "https://localhost:8080/"
        },
        "id": "6n1QVImkLEmX",
        "outputId": "28bd9133-5b2c-45c6-b565-4f4c5495e4e4"
      },
      "execution_count": null,
      "outputs": [
        {
          "output_type": "stream",
          "name": "stdout",
          "text": [
            "<class 'pandas.core.frame.DataFrame'>\n",
            "RangeIndex: 6454 entries, 0 to 6453\n",
            "Data columns (total 5 columns):\n",
            " #   Column  Non-Null Count  Dtype  \n",
            "---  ------  --------------  -----  \n",
            " 0   Ano     6454 non-null   int64  \n",
            " 1   Estado  6454 non-null   object \n",
            " 2   Mês     6454 non-null   object \n",
            " 3   Número  6454 non-null   float64\n",
            " 4   Região  6454 non-null   object \n",
            "dtypes: float64(1), int64(1), object(3)\n",
            "memory usage: 252.2+ KB\n"
          ]
        }
      ]
    },
    {
      "cell_type": "markdown",
      "source": [
        "<font size = 2> Tudo nos conformes, todas as linhas do arquivo foram preenchidas corretamente e todas as Siglas estão dentro do dataframe. Uma observação a se fazer é que o uso da memória quase dobrou com as adições feitas, afinal, acrescentamos colunas suficientes para fazer uma boa pesquisa de Incêndios Florestais.\n",
        "Com tudo caminhando devidamente, prosseguirei agora com a análise dos dados que esse arquivo pode oferecer da forma que foi organizado.\n",
        "\n",
        "#<font color = gold> Iniciando as Análises:"
      ],
      "metadata": {
        "id": "WuV0a--BLQSe"
      }
    },
    {
      "cell_type": "code",
      "source": [
        "# Plot com matplotlib básico\n",
        "fig, ax = plt.subplots(figsize=(12,8))\n",
        "plt.plot(incendios['Número'].groupby(incendios['Ano']).mean(), color ='#ffd200')\n",
        "plt.title('Variação de Incendios')\n",
        "plt.ylabel('Incendios registrados')\n",
        "plt.xlabel('Data de captação')\n",
        "plt.xticks(rotation=45)\n",
        "plt.show()"
      ],
      "metadata": {
        "colab": {
          "base_uri": "https://localhost:8080/",
          "height": 539
        },
        "id": "AtRorI2vQGbO",
        "outputId": "4ab8e794-833e-47d0-bf1a-abc60eb83f61"
      },
      "execution_count": null,
      "outputs": [
        {
          "output_type": "display_data",
          "data": {
            "text/plain": [
              "<Figure size 864x576 with 1 Axes>"
            ],
            "image/png": "[encoded data removed]"
          },
          "metadata": {}
        }
      ]
    },
    {
      "cell_type": "code",
      "source": [
        "# Plot com matplotlib \n",
        "\n",
        "plt.style.use('ggplot')\n",
        "graficoNumeroMeses = (incendios['Número'].groupby(incendios['Mês']).sum()).plot(figsize=(12,6),kind='bar', color='#ffd200',label='Volume de Incêndios Florestais')\n",
        "graficoNumeroMeses.set_title('Registros de Número de Incêndios Florestais durante o Ano', fontsize=16, fontweight='bold', fontfamily='serif' )\n",
        "plt.ylabel('Número de Incêndios Registrados')\n",
        "plt.xlabel('Meses')\n",
        "plt.legend(fontsize=11, facecolor='white')\n",
        "plt.show()"
      ],
      "metadata": {
        "colab": {
          "base_uri": "https://localhost:8080/",
          "height": 452
        },
        "id": "FD9pZfguhzfT",
        "outputId": "f5a4ee05-df9e-4e5e-ebfa-ded6faabfe04"
      },
      "execution_count": null,
      "outputs": [
        {
          "output_type": "display_data",
          "data": {
            "text/plain": [
              "<Figure size 864x432 with 1 Axes>"
            ],
            "image/png": "[encoded data removed]"
          },
          "metadata": {}
        }
      ]
    },
    {
      "cell_type": "code",
      "source": [
        "fig = plt.subplots(figsize=(11.5,7))\n",
        "ax = incendios['Número'].groupby(incendios['Região']).sum().plot.barh(color = '#ffd200');"
      ],
      "metadata": {
        "colab": {
          "base_uri": "https://localhost:8080/",
          "height": 428
        },
        "id": "M1py_jBvsaJf",
        "outputId": "eeca329f-51e9-4a49-b581-4e75b872caad"
      },
      "execution_count": null,
      "outputs": [
        {
          "output_type": "display_data",
          "data": {
            "text/plain": [
              "<Figure size 828x504 with 1 Axes>"
            ],
            "image/png": "[encoded data removed]"
          },
          "metadata": {}
        }
      ]
    },
    {
      "cell_type": "code",
      "source": [
        "incendios.to_csv('incendios_florestais.csv')\n",
        "\n",
        "files.download('incendios_florestais.csv')"
      ],
      "metadata": {
        "id": "tY0Fmbqei0X5"
      },
      "execution_count": null,
      "outputs": []
    }
  ]
}